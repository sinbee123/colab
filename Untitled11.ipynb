{
  "nbformat": 4,
  "nbformat_minor": 0,
  "metadata": {
    "colab": {
      "provenance": [],
      "toc_visible": true,
      "authorship_tag": "ABX9TyNxW5LpBcRTtdt/ZS+LmVf4",
      "include_colab_link": true
    },
    "kernelspec": {
      "name": "python3",
      "display_name": "Python 3"
    },
    "language_info": {
      "name": "python"
    }
  },
  "cells": [
    {
      "cell_type": "markdown",
      "metadata": {
        "id": "view-in-github",
        "colab_type": "text"
      },
      "source": [
        "<a href=\"https://colab.research.google.com/github/sinbee123/colab/blob/main/Untitled11.ipynb\" target=\"_parent\"><img src=\"https://colab.research.google.com/assets/colab-badge.svg\" alt=\"Open In Colab\"/></a>"
      ]
    },
    {
      "cell_type": "code",
      "execution_count": null,
      "metadata": {
        "id": "b2-IWoMi2ZIh"
      },
      "outputs": [],
      "source": [
        "import random\n",
        "com_list = [1,2,3,4,5,6,7,8,9]\n",
        "com_num, usr_num = [], []\n",
        "\n",
        "def usr_fun() :\n",
        "  usr = input(\"3개의 숫자를 입력(1~9) ==> \")\n",
        "  for i in range(0,5,2) :\n",
        "    usr_num.append(int(usr[i]))\n",
        "\n",
        "#컴퓨터 - 3개의 중복되지 않는 숫자 만들기\n",
        "for i in range(3) :\n",
        "  r = random.choice(com_list)\n",
        "  com_list.remove(r)\n",
        "  com_num.append(r)\n",
        "\n",
        "print(\"** 야구 게임 **\")\n",
        "#스트라이크 및 볼 판정----------------------------\n",
        "strike, ball = 0, 0\n",
        "while True :\n",
        "  usr_num.clear()\n",
        "  usr_fun()\n",
        "  for i in range(3) :\n",
        "    if com_num[i] == usr_num[i] :\n",
        "      strike = strike + 1\n",
        "    elif usr_num[i] in com_num :\n",
        "      ball = ball + 1\n",
        "    print(strike, \"스트라이크\", \":\", ball, \"볼\")\n",
        "    if strike == 3 :\n",
        "      print(\"축하합니다.\")\n",
        "      break\n",
        "    strike, ball = 0, 0\n"
      ]
    },
    {
      "cell_type": "code",
      "source": [
        "!pip3 install colabTurtle\n",
        "import ColabTurtle.Turtle as turtle\n",
        "import random\n",
        "print(turtle.DEFAULT_WINDOW_SIZE)\n",
        "turtle.initializeTurtle()\n",
        "tultle.speed(13)\n",
        "tultle.left(-90)\n",
        "nyolor = [\"red\", \"blue\", \"green\", \"yellow\", \"Violet\"]\n",
        "for i in range(50, 800, 50) :\n",
        "  for j in range(50,500,50) :\n",
        "    turtle.penup()\n",
        "    turtle.goto(i,j)\n",
        "    turtle.pendown()\n",
        "    turtle.color(random, choice(myColor))\n",
        "    turtle.forward(1)"
      ],
      "metadata": {
        "id": "5HLyPQWq7rIp"
      },
      "execution_count": null,
      "outputs": []
    },
    {
      "cell_type": "code",
      "source": [
        "numList = []\n",
        "for i in range(0, 4) :\n",
        "  numList.append(0)\n",
        "hap = 0\n",
        "\n",
        "for i in range(0, 4) :\n",
        "  numList[i] + int(input(\" 숫자 : \"))\n",
        "\n",
        "hap = numList[0] + numList[1] + numList[2] + numList[3]\n",
        "\n",
        "print(\"합계 ==> \",hap)"
      ],
      "metadata": {
        "id": "xAKSEpliFn8b"
      },
      "execution_count": null,
      "outputs": []
    },
    {
      "cell_type": "code",
      "source": [
        "import random\n",
        "\n",
        "WiseSay = [\"삶이 있는 한 희망은 있다.\", \n",
        "           \"언제나 현제의 집중할 수 있다면 행복할 것이다.\", \n",
        "           \"신은 용기있는 자를 결코 버리지 않는다.\", \n",
        "           \"피할 수 없으면 즐겨라\", \n",
        "           \"행복한 삶을 살기위해 필요한 것은 거의 없다\", \n",
        "           \"내일은 내일의 태양이 뜬다\", \n",
        "           \"행복은 습관이다. 그것을 몸에 지니라\", \n",
        "           \"1퍼센트의 가능성, 그것이 나의 길이다.\"]\n",
        "today = random.randint(0, len(wiseSay)-1)\n",
        "print(\"오늘의 명언 ==> \", WiseSay[today])"
      ],
      "metadata": {
        "id": "C9cvJW9ZJvwc"
      },
      "execution_count": null,
      "outputs": []
    },
    {
      "cell_type": "code",
      "source": [
        "boardList = [[1,2,3], \n",
        "             [4,5,6], \n",
        "             [7,8,9]]\n",
        "def display_board() :\n",
        "  print(\" \", boardList[0][0], \"|\", boardList[0][1], \"|\", boardList[0][2])\n",
        "  print(\"---+---+---\")\n",
        "  print(\" \", boardList[1][0], \"|\", boardList[1][1], \"|\", boardList[1][2])\n",
        "  print(\"---+---+---\")\n",
        "  print(\" \", boardList[2][0], \"|\", boardList[2][1], \"|\", boardList[2][2])\n",
        "display_board()\n"
      ],
      "metadata": {
        "id": "lg7YA2Plg0Wv"
      },
      "execution_count": null,
      "outputs": []
    },
    {
      "cell_type": "code",
      "source": [
        "from google.colab import output\n",
        "import random\n",
        "usred = [1,2,3,4,5,6,7,8,9]\n",
        "boardList = [ [1,2,3], \n",
        "              [4,5,6], \n",
        "              [7,8,9] ]\n",
        "def display_board() :\n",
        "   print(\" \", boardList[0][0], \"|\", boardList[0][1], \"|\", boardList[0][2])\n",
        "   print(\"---+---+---\")\n",
        "   print(\" \", boardList[1][0], \"|\", boardList[1][1], \"|\", boardList[1][2])\n",
        "   print(\"---+---+---\")\n",
        "   print(\" \", boardList[2][0], \"|\", boardList[2][1], \"|\", boardList[2][2])\n",
        "\n",
        "def user_select() :\n",
        "  user = int(input(\"위치를 선택 : \"))\n",
        "  usred.remove(user)\n",
        "  for x in range(3) :\n",
        "    for y in range(3) :\n",
        "      if user == boardList[x][y] : boardList[x][y] = \"o\"\n",
        "def com_select() :\n",
        "  return player\n",
        "\n",
        "while True :\n",
        "  display_board()\n",
        "  user_select()\n",
        "  if test(\"o\") == \"o\" :\n",
        "    display_board()\n",
        "    print(\"유저 승\")\n",
        "    break\n",
        "  elif len(usred) ==0:\n",
        "    print(\"비겼다.\")\n",
        "    break\n",
        "  output.clear()\n",
        "  com_select()\n",
        "  output.clear\n",
        "  if test(\"x\") == \"x\" :\n",
        "    display_board()\n",
        "    print(\"컴퓨터 승\")\n",
        "    break\n",
        "  elif len(usred) ==0:\n",
        "    print(\"비겼다.\")\n",
        "    break"
      ],
      "metadata": {
        "id": "iEWkJbjKrrTQ"
      },
      "execution_count": null,
      "outputs": []
    }
  ]
}