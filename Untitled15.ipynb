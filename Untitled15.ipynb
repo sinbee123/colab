{
  "nbformat": 4,
  "nbformat_minor": 0,
  "metadata": {
    "colab": {
      "provenance": [],
      "authorship_tag": "ABX9TyMvrG35YRViuvohSzjfNR+w",
      "include_colab_link": true
    },
    "kernelspec": {
      "name": "python3",
      "display_name": "Python 3"
    },
    "language_info": {
      "name": "python"
    }
  },
  "cells": [
    {
      "cell_type": "markdown",
      "metadata": {
        "id": "view-in-github",
        "colab_type": "text"
      },
      "source": [
        "<a href=\"https://colab.research.google.com/github/sinbee123/colab/blob/main/Untitled15.ipynb\" target=\"_parent\"><img src=\"https://colab.research.google.com/assets/colab-badge.svg\" alt=\"Open In Colab\"/></a>"
      ]
    },
    {
      "cell_type": "code",
      "execution_count": null,
      "metadata": {
        "id": "O_yRS2arjbuM"
      },
      "outputs": [],
      "source": [
        "for i in text :"
      ]
    },
    {
      "cell_type": "code",
      "source": [
        "singer = input(\"가수 이름을 입력 : \")\n",
        "singer_length = len(singer)\n",
        "#print(singer_length)\n",
        "r_singer= \"\"\n",
        "while singer_length > 0 :\n",
        "  r_singer = r_singer + singer[singer_length-1]\n",
        "  singer_length = singer_length -1\n",
        "print(r_singer)"
      ],
      "metadata": {
        "id": "MPMGZh9jn9Km",
        "colab": {
          "base_uri": "https://localhost:8080/"
        },
        "outputId": "46dec8b2-4846-472f-a0af-8c57829e0388"
      },
      "execution_count": 1,
      "outputs": [
        {
          "output_type": "stream",
          "name": "stdout",
          "text": [
            "가수 이름을 입력 : 트와이스\n",
            "스이와트\n"
          ]
        }
      ]
    }
  ]
}