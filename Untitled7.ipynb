{
  "nbformat": 4,
  "nbformat_minor": 0,
  "metadata": {
    "colab": {
      "name": "Untitled7.ipynb",
      "provenance": [],
      "collapsed_sections": [],
      "authorship_tag": "ABX9TyMn10SxpXpCPUJI1HfEO5Ao",
      "include_colab_link": true
    },
    "kernelspec": {
      "name": "python3",
      "display_name": "Python 3"
    },
    "language_info": {
      "name": "python"
    }
  },
  "cells": [
    {
      "cell_type": "markdown",
      "metadata": {
        "id": "view-in-github",
        "colab_type": "text"
      },
      "source": [
        "<a href=\"https://colab.research.google.com/github/sinbee123/colab/blob/main/Untitled7.ipynb\" target=\"_parent\"><img src=\"https://colab.research.google.com/assets/colab-badge.svg\" alt=\"Open In Colab\"/></a>"
      ]
    },
    {
      "cell_type": "markdown",
      "source": [
        "대문자를 소문자로 소문자를 대문자로변경하는 프로그램"
      ],
      "metadata": {
        "id": "WhyNtsbzSm1J"
      }
    },
    {
      "cell_type": "code",
      "execution_count": 5,
      "metadata": {
        "colab": {
          "base_uri": "https://localhost:8080/"
        },
        "id": "TgpZL3MyRA9P",
        "outputId": "4d5a009d-5b49-4fcc-d24c-6fdbfe38734b"
      },
      "outputs": [
        {
          "output_type": "stream",
          "name": "stdout",
          "text": [
            "원본문자열은 ==>  python\n",
            "원본문자열은 ==>  pYTHON\n"
          ]
        }
      ],
      "source": [
        "text = \"python\"\n",
        "change_text = text[0]. lower() + text[1]. upper() + text[2]. upper() + text[3]. upper() + \\\n",
        " text[4]. upper() + text[5]. upper()\n",
        "print(\"원본문자열은 ==> \", text)\n",
        "print(\"원본문자열은 ==> \", change_text)"
      ]
    },
    {
      "cell_type": "markdown",
      "source": [
        "복합대입 연산자를 이용한 연산자 풀이"
      ],
      "metadata": {
        "id": "L29lMWIvV6NB"
      }
    },
    {
      "cell_type": "code",
      "source": [
        "ss = \"python\"\n",
        "print(\"원본문자열 ==> \", ss)\n",
        "\n",
        "ss2 = \"\"\n",
        "\n",
        "ss2 += ss[0]. lower()\n",
        "ss2 += ss[1]. upper()\n",
        "ss2 += ss[2]. upper()\n",
        "ss2 += ss[3]. upper()\n",
        "ss2 += ss[4]. upper()\n",
        "ss2 += ss[5]. upper()\n",
        "\n",
        "print(\"변환 문자열 ==> \", end='')\n",
        "print(ss2)"
      ],
      "metadata": {
        "colab": {
          "base_uri": "https://localhost:8080/"
        },
        "id": "FZWEiW6_VpEj",
        "outputId": "4cda2c9a-e909-4799-b8a1-acff6377cbd7"
      },
      "execution_count": 7,
      "outputs": [
        {
          "output_type": "stream",
          "name": "stdout",
          "text": [
            "원본문자열 ==>  python\n",
            "변환 문자열 ==> pYTHON\n"
          ]
        }
      ]
    },
    {
      "cell_type": "markdown",
      "source": [
        "모험을 떠나는 거북이"
      ],
      "metadata": {
        "id": "Ymf_GjZEXjAh"
      }
    },
    {
      "cell_type": "code",
      "source": [
        "!pip3 install ColabTurtle\n",
        "import ColabTurtle. Turtle as turtle\n",
        "import ColabTurtle. Turtle as turtle\n",
        "turtle. initializeTurtle()\n",
        "\n",
        "while True :\n",
        "  distance = int(input(\"거북이 이동 거리 입력 : \"))\n",
        "  if distance == 0 :\n",
        "    break\n",
        "  angel = int(input(\"거북이 각도 입력 : \"))\n",
        "  turtle.left(angel)\n",
        "  turtle.forward(distance)"
      ],
      "metadata": {
        "colab": {
          "base_uri": "https://localhost:8080/",
          "height": 1000
        },
        "id": "mhXkkb5gXb5a",
        "outputId": "f1731655-d246-4b9c-91f5-a02837380096"
      },
      "execution_count": 14,
      "outputs": [
        {
          "output_type": "stream",
          "name": "stdout",
          "text": [
            "Looking in indexes: https://pypi.org/simple, https://us-python.pkg.dev/colab-wheels/public/simple/\n",
            "Requirement already satisfied: ColabTurtle in /usr/local/lib/python3.7/dist-packages (2.1.0)\n"
          ]
        },
        {
          "output_type": "display_data",
          "data": {
            "text/plain": [
              "<IPython.core.display.HTML object>"
            ],
            "text/html": [
              "\n",
              "      <svg width=\"800\" height=\"500\">\n",
              "        <rect width=\"100%\" height=\"100%\" fill=\"black\"/>\n",
              "        <line x1=\"400\" y1=\"250\" x2=\"329.289\" y2=\"179.289\" stroke-linecap=\"round\" style=\"stroke:white;stroke-width:4\"/><line x1=\"329.289\" y1=\"179.289\" x2=\"229.289\" y2=\"179.289\" stroke-linecap=\"round\" style=\"stroke:white;stroke-width:4\"/><line x1=\"229.289\" y1=\"179.289\" x2=\"158.578\" y2=\"250.0\" stroke-linecap=\"round\" style=\"stroke:white;stroke-width:4\"/><line x1=\"158.578\" y1=\"250.0\" x2=\"158.578\" y2=\"350.0\" stroke-linecap=\"round\" style=\"stroke:white;stroke-width:4\"/><line x1=\"158.578\" y1=\"350.0\" x2=\"229.289\" y2=\"420.711\" stroke-linecap=\"round\" style=\"stroke:white;stroke-width:4\"/><line x1=\"229.289\" y1=\"420.711\" x2=\"329.289\" y2=\"420.711\" stroke-linecap=\"round\" style=\"stroke:white;stroke-width:4\"/><line x1=\"329.289\" y1=\"420.711\" x2=\"400.0\" y2=\"350.0\" stroke-linecap=\"round\" style=\"stroke:white;stroke-width:4\"/><line x1=\"400.0\" y1=\"350.0\" x2=\"400.0\" y2=\"250.0\" stroke-linecap=\"round\" style=\"stroke:white;stroke-width:4\"/>\n",
              "        <g visibility=visible transform=\"rotate(360,400.0,250.0) translate(382.0, 232.0)\">\n",
              "<path style=\" stroke:none;fill-rule:evenodd;fill:white;fill-opacity:1;\" d=\"M 18.214844 0.632812 C 16.109375 1.800781 15.011719 4.074219 15.074219 7.132812 L 15.085938 7.652344 L 14.785156 7.496094 C 13.476562 6.824219 11.957031 6.671875 10.40625 7.066406 C 8.46875 7.550781 6.515625 9.15625 4.394531 11.992188 C 3.0625 13.777344 2.679688 14.636719 3.042969 15.027344 L 3.15625 15.152344 L 3.519531 15.152344 C 4.238281 15.152344 4.828125 14.886719 8.1875 13.039062 C 9.386719 12.378906 10.371094 11.839844 10.378906 11.839844 C 10.386719 11.839844 10.355469 11.929688 10.304688 12.035156 C 9.832031 13.09375 9.257812 14.820312 8.96875 16.078125 C 7.914062 20.652344 8.617188 24.53125 11.070312 27.660156 C 11.351562 28.015625 11.363281 27.914062 10.972656 28.382812 C 8.925781 30.84375 7.945312 33.28125 8.238281 35.1875 C 8.289062 35.527344 8.28125 35.523438 8.917969 35.523438 C 10.941406 35.523438 13.074219 34.207031 15.136719 31.6875 C 15.359375 31.417969 15.328125 31.425781 15.5625 31.574219 C 16.292969 32.042969 18.023438 32.964844 18.175781 32.964844 C 18.335938 32.964844 19.941406 32.210938 20.828125 31.71875 C 20.996094 31.625 21.136719 31.554688 21.136719 31.558594 C 21.203125 31.664062 21.898438 32.414062 22.222656 32.730469 C 23.835938 34.300781 25.5625 35.132812 27.582031 35.300781 C 27.90625 35.328125 27.9375 35.308594 28.007812 34.984375 C 28.382812 33.242188 27.625 30.925781 25.863281 28.425781 L 25.542969 27.96875 L 25.699219 27.785156 C 28.945312 23.960938 29.132812 18.699219 26.257812 11.96875 L 26.207031 11.84375 L 27.945312 12.703125 C 31.53125 14.476562 32.316406 14.800781 33.03125 14.800781 C 33.976562 14.800781 33.78125 13.9375 32.472656 12.292969 C 28.519531 7.355469 25.394531 5.925781 21.921875 7.472656 L 21.558594 7.636719 L 21.578125 7.542969 C 21.699219 6.992188 21.761719 5.742188 21.699219 5.164062 C 21.496094 3.296875 20.664062 1.964844 19.003906 0.855469 C 18.480469 0.503906 18.457031 0.5 18.214844 0.632812\"/>\n",
              "</g>\n",
              "      </svg>\n",
              "    "
            ]
          },
          "metadata": {}
        },
        {
          "name": "stdout",
          "output_type": "stream",
          "text": [
            "거북이 이동 거리 입력 : 100\n",
            "거북이 각도 입력 : 45\n",
            "거북이 이동 거리 입력 : 100\n",
            "거북이 각도 입력 : 45\n",
            "거북이 이동 거리 입력 : 100\n",
            "거북이 각도 입력 : 45\n",
            "거북이 이동 거리 입력 : 100\n",
            "거북이 각도 입력 : 45\n",
            "거북이 이동 거리 입력 : 100\n",
            "거북이 각도 입력 : 45\n",
            "거북이 이동 거리 입력 : 100\n",
            "거북이 각도 입력 : 45\n",
            "거북이 이동 거리 입력 : 100\n",
            "거북이 각도 입력 : 45\n",
            "거북이 이동 거리 입력 : 100\n",
            "거북이 각도 입력 : 45\n",
            "거북이 이동 거리 입력 : \n"
          ]
        },
        {
          "output_type": "error",
          "ename": "ValueError",
          "evalue": "ignored",
          "traceback": [
            "\u001b[0;31m---------------------------------------------------------------------------\u001b[0m",
            "\u001b[0;31mValueError\u001b[0m                                Traceback (most recent call last)",
            "\u001b[0;32m<ipython-input-14-c040b13e977b>\u001b[0m in \u001b[0;36m<module>\u001b[0;34m\u001b[0m\n\u001b[1;32m      5\u001b[0m \u001b[0;34m\u001b[0m\u001b[0m\n\u001b[1;32m      6\u001b[0m \u001b[0;32mwhile\u001b[0m \u001b[0;32mTrue\u001b[0m \u001b[0;34m:\u001b[0m\u001b[0;34m\u001b[0m\u001b[0;34m\u001b[0m\u001b[0m\n\u001b[0;32m----> 7\u001b[0;31m   \u001b[0mdistance\u001b[0m \u001b[0;34m=\u001b[0m \u001b[0mint\u001b[0m\u001b[0;34m(\u001b[0m\u001b[0minput\u001b[0m\u001b[0;34m(\u001b[0m\u001b[0;34m\"거북이 이동 거리 입력 : \"\u001b[0m\u001b[0;34m)\u001b[0m\u001b[0;34m)\u001b[0m\u001b[0;34m\u001b[0m\u001b[0;34m\u001b[0m\u001b[0m\n\u001b[0m\u001b[1;32m      8\u001b[0m   \u001b[0;32mif\u001b[0m \u001b[0mdistance\u001b[0m \u001b[0;34m==\u001b[0m \u001b[0;36m0\u001b[0m \u001b[0;34m:\u001b[0m\u001b[0;34m\u001b[0m\u001b[0;34m\u001b[0m\u001b[0m\n\u001b[1;32m      9\u001b[0m     \u001b[0;32mbreak\u001b[0m\u001b[0;34m\u001b[0m\u001b[0;34m\u001b[0m\u001b[0m\n",
            "\u001b[0;31mValueError\u001b[0m: invalid literal for int() with base 10: ''"
          ]
        }
      ]
    }
  ]
}